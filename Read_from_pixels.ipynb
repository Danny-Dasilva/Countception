{
 "cells": [
  {
   "cell_type": "code",
   "execution_count": 7,
   "metadata": {},
   "outputs": [],
   "source": [
    "from PIL import Image\n",
    "import cv2\n",
    "import numpy as np\n"
   ]
  },
  {
   "cell_type": "code",
   "execution_count": 8,
   "metadata": {},
   "outputs": [],
   "source": [
    "img = \"adipocyte_data/annotations/test.jpeg\""
   ]
  },
  {
   "cell_type": "code",
   "execution_count": 9,
   "metadata": {},
   "outputs": [],
   "source": [
    "image = cv2.imread(img)\n",
    "lower_red = np.array([0,0,220])  # BGR-code of your lowest red\n",
    "upper_red = np.array([10,10,255])   # BGR-code of your highest red \n",
    "mask = cv2.inRange(image, lower_red, upper_red)  \n",
    "#get all non zero values\n",
    "coord=cv2.findNonZero(mask)"
   ]
  },
  {
   "cell_type": "code",
   "execution_count": 10,
   "metadata": {},
   "outputs": [
    {
     "name": "stdout",
     "output_type": "stream",
     "text": [
      "150 150\n"
     ]
    }
   ],
   "source": [
    "height, width, channels = image.shape\n",
    "print(height, width)"
   ]
  },
  {
   "cell_type": "code",
   "execution_count": 11,
   "metadata": {},
   "outputs": [],
   "source": [
    "location_list = coord.tolist()"
   ]
  },
  {
   "cell_type": "code",
   "execution_count": 12,
   "metadata": {},
   "outputs": [
    {
     "name": "stdout",
     "output_type": "stream",
     "text": [
      "[[63, 2], [27, 3], [94, 3], [3, 4], [148, 4], [72, 5], [40, 7], [16, 9], [121, 9], [138, 9], [26, 13], [6, 14], [31, 14], [62, 15], [103, 15], [53, 16], [86, 16], [33, 18], [14, 19], [1, 21], [62, 22], [148, 22], [45, 24], [135, 26], [63, 27], [73, 27], [115, 27], [125, 27], [23, 29], [9, 30], [98, 34], [143, 34], [52, 35], [109, 36], [126, 37], [81, 39], [30, 40], [66, 40], [116, 41], [3, 42], [148, 42], [131, 46], [12, 47], [36, 47], [92, 47], [105, 47], [22, 48], [56, 48], [148, 51], [67, 52], [120, 52], [139, 52], [45, 55], [79, 55], [2, 58], [11, 61], [23, 61], [59, 61], [129, 61], [98, 64], [143, 64], [4, 65], [36, 65], [112, 65], [85, 67], [11, 68], [73, 68], [55, 73], [3, 74], [104, 76], [122, 78], [92, 79], [138, 79], [38, 80], [17, 81], [148, 81], [66, 82], [129, 84], [52, 85], [28, 86], [3, 89], [108, 89], [76, 90], [96, 90], [130, 90], [56, 91], [13, 94], [65, 94], [86, 94], [121, 94], [23, 95], [37, 95], [142, 97], [98, 98], [130, 98], [80, 102], [52, 104], [77, 106], [18, 107], [65, 107], [88, 107], [1, 108], [32, 108], [41, 108], [120, 109], [148, 111], [101, 112], [76, 113], [1, 117], [26, 118], [138, 118], [44, 122], [61, 122], [92, 125], [106, 125], [123, 125], [146, 125], [11, 127], [79, 129], [28, 131], [1, 132], [66, 133], [115, 133], [55, 135], [134, 135], [41, 136], [148, 136], [102, 137], [62, 138], [20, 140], [91, 141], [46, 143], [76, 144], [7, 146], [33, 146], [58, 146], [98, 146], [118, 146], [131, 146], [145, 146], [140, 148], [86, 149]]\n"
     ]
    }
   ],
   "source": [
    "list_l = []\n",
    "for i in range(len(location_list)):\n",
    "    l = location_list[i][0]\n",
    "    list_l.append(l)\n",
    "print(list_l)"
   ]
  },
  {
   "cell_type": "code",
   "execution_count": 14,
   "metadata": {},
   "outputs": [
    {
     "data": {
      "text/plain": [
       "255"
      ]
     },
     "execution_count": 14,
     "metadata": {},
     "output_type": "execute_result"
    }
   ],
   "source": [
    "img = np.zeros((height, width, 3), np.uint8)\n",
    "\n",
    "red = [0,0,255]\n",
    "lists = [[50,50], [25,23]]\n",
    "for i in range(len(list_l)):\n",
    "    s, i = list_l[i]\n",
    "    \n",
    "    img[s, i] = red\n",
    "    \n",
    "cv2.imshow('img', img)\n",
    "cv2.waitKey(0)"
   ]
  },
  {
   "cell_type": "code",
   "execution_count": null,
   "metadata": {},
   "outputs": [],
   "source": []
  }
 ],
 "metadata": {
  "kernelspec": {
   "display_name": "Python 3",
   "language": "python",
   "name": "python3"
  },
  "language_info": {
   "codemirror_mode": {
    "name": "ipython",
    "version": 3
   },
   "file_extension": ".py",
   "mimetype": "text/x-python",
   "name": "python",
   "nbconvert_exporter": "python",
   "pygments_lexer": "ipython3",
   "version": "3.6.8"
  }
 },
 "nbformat": 4,
 "nbformat_minor": 2
}
